{
 "cells": [
  {
   "cell_type": "markdown",
   "metadata": {},
   "source": [
    "# Importing Packages"
   ]
  },
  {
   "cell_type": "code",
   "execution_count": 1,
   "metadata": {},
   "outputs": [],
   "source": [
    "import pandas as pd\n",
    "import matplotlib.pyplot as plt\n",
    "import seaborn as sns\n",
    "import numpy as np"
   ]
  },
  {
   "cell_type": "markdown",
   "metadata": {},
   "source": [
    "# Data Exploration"
   ]
  },
  {
   "cell_type": "code",
   "execution_count": 2,
   "metadata": {},
   "outputs": [
    {
     "data": {
      "text/plain": [
       "<bound method NDFrame.head of                        State_Name District_Name  Crop_Year       Season  \\\n",
       "0     Andaman and Nicobar Islands      NICOBARS       2000  Kharif        \n",
       "1     Andaman and Nicobar Islands      NICOBARS       2000  Kharif        \n",
       "2     Andaman and Nicobar Islands      NICOBARS       2000  Kharif        \n",
       "3     Andaman and Nicobar Islands      NICOBARS       2000  Whole Year    \n",
       "4     Andaman and Nicobar Islands      NICOBARS       2000  Whole Year    \n",
       "...                           ...           ...        ...          ...   \n",
       "9995            Arunachal Pradesh     CHANGLANG       2002  Rabi          \n",
       "9996            Arunachal Pradesh     CHANGLANG       2002  Whole Year    \n",
       "9997            Arunachal Pradesh     CHANGLANG       2002  Whole Year    \n",
       "9998            Arunachal Pradesh     CHANGLANG       2002  Whole Year    \n",
       "9999            Arunachal Pradesh     CHANGLANG       2002  Whole Year    \n",
       "\n",
       "                     Crop    Area  Production  \n",
       "0                Arecanut  1254.0      2000.0  \n",
       "1     Other Kharif pulses     2.0         1.0  \n",
       "2                    Rice   102.0       321.0  \n",
       "3                  Banana   176.0       641.0  \n",
       "4               Cashewnut   720.0       165.0  \n",
       "...                   ...     ...         ...  \n",
       "9995                Wheat   200.0       320.0  \n",
       "9996         Dry chillies   320.0       480.0  \n",
       "9997           Dry ginger   450.0      2475.0  \n",
       "9998       Oilseeds total  3500.0      2887.0  \n",
       "9999               Potato    50.0       290.0  \n",
       "\n",
       "[10000 rows x 7 columns]>"
      ]
     },
     "execution_count": 2,
     "metadata": {},
     "output_type": "execute_result"
    }
   ],
   "source": [
    "df = pd.read_csv(\"data/crop_production.csv\")\n",
    "df = df[:10000]\n",
    "df.head"
   ]
  },
  {
   "cell_type": "markdown",
   "metadata": {},
   "source": [
    "# Data Processing"
   ]
  },
  {
   "cell_type": "code",
   "execution_count": 3,
   "metadata": {},
   "outputs": [
    {
     "data": {
      "text/plain": [
       "State_Name        0\n",
       "District_Name     0\n",
       "Crop_Year         0\n",
       "Season            0\n",
       "Crop              0\n",
       "Area              0\n",
       "Production       69\n",
       "dtype: int64"
      ]
     },
     "execution_count": 3,
     "metadata": {},
     "output_type": "execute_result"
    }
   ],
   "source": [
    "df.isnull().sum()"
   ]
  },
  {
   "cell_type": "code",
   "execution_count": 4,
   "metadata": {},
   "outputs": [
    {
     "name": "stdout",
     "output_type": "stream",
     "text": [
      "(9931, 7)\n",
      "(69, 6)\n"
     ]
    }
   ],
   "source": [
    "data = df.dropna()\n",
    "print(data.shape)\n",
    "test = df[~df[\"Production\"].notna()].drop(\"Production\",axis=1)\n",
    "print(test.shape)"
   ]
  },
  {
   "cell_type": "code",
   "execution_count": 5,
   "metadata": {},
   "outputs": [
    {
     "data": {
      "text/html": [
       "<div>\n",
       "<style scoped>\n",
       "    .dataframe tbody tr th:only-of-type {\n",
       "        vertical-align: middle;\n",
       "    }\n",
       "\n",
       "    .dataframe tbody tr th {\n",
       "        vertical-align: top;\n",
       "    }\n",
       "\n",
       "    .dataframe thead th {\n",
       "        text-align: right;\n",
       "    }\n",
       "</style>\n",
       "<table border=\"1\" class=\"dataframe\">\n",
       "  <thead>\n",
       "    <tr style=\"text-align: right;\">\n",
       "      <th></th>\n",
       "      <th>State_Name</th>\n",
       "      <th>District_Name</th>\n",
       "      <th>Crop_Year</th>\n",
       "      <th>Season</th>\n",
       "      <th>Crop</th>\n",
       "      <th>Area</th>\n",
       "      <th>Production</th>\n",
       "    </tr>\n",
       "  </thead>\n",
       "  <tbody>\n",
       "    <tr>\n",
       "      <th>0</th>\n",
       "      <td>Andaman and Nicobar Islands</td>\n",
       "      <td>NICOBARS</td>\n",
       "      <td>2000</td>\n",
       "      <td>Kharif</td>\n",
       "      <td>Arecanut</td>\n",
       "      <td>1254.0</td>\n",
       "      <td>2000.0</td>\n",
       "    </tr>\n",
       "    <tr>\n",
       "      <th>1</th>\n",
       "      <td>Andaman and Nicobar Islands</td>\n",
       "      <td>NICOBARS</td>\n",
       "      <td>2000</td>\n",
       "      <td>Kharif</td>\n",
       "      <td>Other Kharif pulses</td>\n",
       "      <td>2.0</td>\n",
       "      <td>1.0</td>\n",
       "    </tr>\n",
       "    <tr>\n",
       "      <th>2</th>\n",
       "      <td>Andaman and Nicobar Islands</td>\n",
       "      <td>NICOBARS</td>\n",
       "      <td>2000</td>\n",
       "      <td>Kharif</td>\n",
       "      <td>Rice</td>\n",
       "      <td>102.0</td>\n",
       "      <td>321.0</td>\n",
       "    </tr>\n",
       "    <tr>\n",
       "      <th>3</th>\n",
       "      <td>Andaman and Nicobar Islands</td>\n",
       "      <td>NICOBARS</td>\n",
       "      <td>2000</td>\n",
       "      <td>Whole Year</td>\n",
       "      <td>Banana</td>\n",
       "      <td>176.0</td>\n",
       "      <td>641.0</td>\n",
       "    </tr>\n",
       "    <tr>\n",
       "      <th>4</th>\n",
       "      <td>Andaman and Nicobar Islands</td>\n",
       "      <td>NICOBARS</td>\n",
       "      <td>2000</td>\n",
       "      <td>Whole Year</td>\n",
       "      <td>Cashewnut</td>\n",
       "      <td>720.0</td>\n",
       "      <td>165.0</td>\n",
       "    </tr>\n",
       "    <tr>\n",
       "      <th>...</th>\n",
       "      <td>...</td>\n",
       "      <td>...</td>\n",
       "      <td>...</td>\n",
       "      <td>...</td>\n",
       "      <td>...</td>\n",
       "      <td>...</td>\n",
       "      <td>...</td>\n",
       "    </tr>\n",
       "    <tr>\n",
       "      <th>9995</th>\n",
       "      <td>Arunachal Pradesh</td>\n",
       "      <td>CHANGLANG</td>\n",
       "      <td>2002</td>\n",
       "      <td>Rabi</td>\n",
       "      <td>Wheat</td>\n",
       "      <td>200.0</td>\n",
       "      <td>320.0</td>\n",
       "    </tr>\n",
       "    <tr>\n",
       "      <th>9996</th>\n",
       "      <td>Arunachal Pradesh</td>\n",
       "      <td>CHANGLANG</td>\n",
       "      <td>2002</td>\n",
       "      <td>Whole Year</td>\n",
       "      <td>Dry chillies</td>\n",
       "      <td>320.0</td>\n",
       "      <td>480.0</td>\n",
       "    </tr>\n",
       "    <tr>\n",
       "      <th>9997</th>\n",
       "      <td>Arunachal Pradesh</td>\n",
       "      <td>CHANGLANG</td>\n",
       "      <td>2002</td>\n",
       "      <td>Whole Year</td>\n",
       "      <td>Dry ginger</td>\n",
       "      <td>450.0</td>\n",
       "      <td>2475.0</td>\n",
       "    </tr>\n",
       "    <tr>\n",
       "      <th>9998</th>\n",
       "      <td>Arunachal Pradesh</td>\n",
       "      <td>CHANGLANG</td>\n",
       "      <td>2002</td>\n",
       "      <td>Whole Year</td>\n",
       "      <td>Oilseeds total</td>\n",
       "      <td>3500.0</td>\n",
       "      <td>2887.0</td>\n",
       "    </tr>\n",
       "    <tr>\n",
       "      <th>9999</th>\n",
       "      <td>Arunachal Pradesh</td>\n",
       "      <td>CHANGLANG</td>\n",
       "      <td>2002</td>\n",
       "      <td>Whole Year</td>\n",
       "      <td>Potato</td>\n",
       "      <td>50.0</td>\n",
       "      <td>290.0</td>\n",
       "    </tr>\n",
       "  </tbody>\n",
       "</table>\n",
       "<p>9931 rows × 7 columns</p>\n",
       "</div>"
      ],
      "text/plain": [
       "                       State_Name District_Name  Crop_Year       Season  \\\n",
       "0     Andaman and Nicobar Islands      NICOBARS       2000  Kharif        \n",
       "1     Andaman and Nicobar Islands      NICOBARS       2000  Kharif        \n",
       "2     Andaman and Nicobar Islands      NICOBARS       2000  Kharif        \n",
       "3     Andaman and Nicobar Islands      NICOBARS       2000  Whole Year    \n",
       "4     Andaman and Nicobar Islands      NICOBARS       2000  Whole Year    \n",
       "...                           ...           ...        ...          ...   \n",
       "9995            Arunachal Pradesh     CHANGLANG       2002  Rabi          \n",
       "9996            Arunachal Pradesh     CHANGLANG       2002  Whole Year    \n",
       "9997            Arunachal Pradesh     CHANGLANG       2002  Whole Year    \n",
       "9998            Arunachal Pradesh     CHANGLANG       2002  Whole Year    \n",
       "9999            Arunachal Pradesh     CHANGLANG       2002  Whole Year    \n",
       "\n",
       "                     Crop    Area  Production  \n",
       "0                Arecanut  1254.0      2000.0  \n",
       "1     Other Kharif pulses     2.0         1.0  \n",
       "2                    Rice   102.0       321.0  \n",
       "3                  Banana   176.0       641.0  \n",
       "4               Cashewnut   720.0       165.0  \n",
       "...                   ...     ...         ...  \n",
       "9995                Wheat   200.0       320.0  \n",
       "9996         Dry chillies   320.0       480.0  \n",
       "9997           Dry ginger   450.0      2475.0  \n",
       "9998       Oilseeds total  3500.0      2887.0  \n",
       "9999               Potato    50.0       290.0  \n",
       "\n",
       "[9931 rows x 7 columns]"
      ]
     },
     "execution_count": 5,
     "metadata": {},
     "output_type": "execute_result"
    }
   ],
   "source": [
    "data"
   ]
  },
  {
   "cell_type": "code",
   "execution_count": 6,
   "metadata": {},
   "outputs": [
    {
     "data": {
      "text/html": [
       "<div>\n",
       "<style scoped>\n",
       "    .dataframe tbody tr th:only-of-type {\n",
       "        vertical-align: middle;\n",
       "    }\n",
       "\n",
       "    .dataframe tbody tr th {\n",
       "        vertical-align: top;\n",
       "    }\n",
       "\n",
       "    .dataframe thead th {\n",
       "        text-align: right;\n",
       "    }\n",
       "</style>\n",
       "<table border=\"1\" class=\"dataframe\">\n",
       "  <thead>\n",
       "    <tr style=\"text-align: right;\">\n",
       "      <th></th>\n",
       "      <th>State_Name</th>\n",
       "      <th>District_Name</th>\n",
       "      <th>Crop_Year</th>\n",
       "      <th>Season</th>\n",
       "      <th>Crop</th>\n",
       "      <th>Area</th>\n",
       "    </tr>\n",
       "  </thead>\n",
       "  <tbody>\n",
       "    <tr>\n",
       "      <th>46</th>\n",
       "      <td>Andaman and Nicobar Islands</td>\n",
       "      <td>NICOBARS</td>\n",
       "      <td>2005</td>\n",
       "      <td>Whole Year</td>\n",
       "      <td>Arecanut</td>\n",
       "      <td>795.67</td>\n",
       "    </tr>\n",
       "    <tr>\n",
       "      <th>51</th>\n",
       "      <td>Andaman and Nicobar Islands</td>\n",
       "      <td>NICOBARS</td>\n",
       "      <td>2005</td>\n",
       "      <td>Whole Year</td>\n",
       "      <td>Dry chillies</td>\n",
       "      <td>17.00</td>\n",
       "    </tr>\n",
       "    <tr>\n",
       "      <th>623</th>\n",
       "      <td>Andhra Pradesh</td>\n",
       "      <td>ANANTAPUR</td>\n",
       "      <td>2007</td>\n",
       "      <td>Kharif</td>\n",
       "      <td>Moong(Green Gram)</td>\n",
       "      <td>1000.00</td>\n",
       "    </tr>\n",
       "    <tr>\n",
       "      <th>630</th>\n",
       "      <td>Andhra Pradesh</td>\n",
       "      <td>ANANTAPUR</td>\n",
       "      <td>2007</td>\n",
       "      <td>Rabi</td>\n",
       "      <td>Horse-gram</td>\n",
       "      <td>1000.00</td>\n",
       "    </tr>\n",
       "    <tr>\n",
       "      <th>698</th>\n",
       "      <td>Andhra Pradesh</td>\n",
       "      <td>ANANTAPUR</td>\n",
       "      <td>2009</td>\n",
       "      <td>Rabi</td>\n",
       "      <td>Rapeseed &amp;Mustard</td>\n",
       "      <td>8.00</td>\n",
       "    </tr>\n",
       "    <tr>\n",
       "      <th>...</th>\n",
       "      <td>...</td>\n",
       "      <td>...</td>\n",
       "      <td>...</td>\n",
       "      <td>...</td>\n",
       "      <td>...</td>\n",
       "      <td>...</td>\n",
       "    </tr>\n",
       "    <tr>\n",
       "      <th>9275</th>\n",
       "      <td>Andhra Pradesh</td>\n",
       "      <td>WEST GODAVARI</td>\n",
       "      <td>1998</td>\n",
       "      <td>Kharif</td>\n",
       "      <td>Moong(Green Gram)</td>\n",
       "      <td>100.00</td>\n",
       "    </tr>\n",
       "    <tr>\n",
       "      <th>9452</th>\n",
       "      <td>Andhra Pradesh</td>\n",
       "      <td>WEST GODAVARI</td>\n",
       "      <td>2003</td>\n",
       "      <td>Rabi</td>\n",
       "      <td>other oilseeds</td>\n",
       "      <td>4367.00</td>\n",
       "    </tr>\n",
       "    <tr>\n",
       "      <th>9586</th>\n",
       "      <td>Andhra Pradesh</td>\n",
       "      <td>WEST GODAVARI</td>\n",
       "      <td>2007</td>\n",
       "      <td>Rabi</td>\n",
       "      <td>Sesamum</td>\n",
       "      <td>1000.00</td>\n",
       "    </tr>\n",
       "    <tr>\n",
       "      <th>9628</th>\n",
       "      <td>Andhra Pradesh</td>\n",
       "      <td>WEST GODAVARI</td>\n",
       "      <td>2009</td>\n",
       "      <td>Kharif</td>\n",
       "      <td>Soyabean</td>\n",
       "      <td>5.00</td>\n",
       "    </tr>\n",
       "    <tr>\n",
       "      <th>9793</th>\n",
       "      <td>Andhra Pradesh</td>\n",
       "      <td>WEST GODAVARI</td>\n",
       "      <td>2014</td>\n",
       "      <td>Kharif</td>\n",
       "      <td>Cabbage</td>\n",
       "      <td>26.00</td>\n",
       "    </tr>\n",
       "  </tbody>\n",
       "</table>\n",
       "<p>69 rows × 6 columns</p>\n",
       "</div>"
      ],
      "text/plain": [
       "                       State_Name  District_Name  Crop_Year       Season  \\\n",
       "46    Andaman and Nicobar Islands       NICOBARS       2005  Whole Year    \n",
       "51    Andaman and Nicobar Islands       NICOBARS       2005  Whole Year    \n",
       "623                Andhra Pradesh      ANANTAPUR       2007  Kharif        \n",
       "630                Andhra Pradesh      ANANTAPUR       2007  Rabi          \n",
       "698                Andhra Pradesh      ANANTAPUR       2009  Rabi          \n",
       "...                           ...            ...        ...          ...   \n",
       "9275               Andhra Pradesh  WEST GODAVARI       1998  Kharif        \n",
       "9452               Andhra Pradesh  WEST GODAVARI       2003  Rabi          \n",
       "9586               Andhra Pradesh  WEST GODAVARI       2007  Rabi          \n",
       "9628               Andhra Pradesh  WEST GODAVARI       2009  Kharif        \n",
       "9793               Andhra Pradesh  WEST GODAVARI       2014  Kharif        \n",
       "\n",
       "                   Crop     Area  \n",
       "46             Arecanut   795.67  \n",
       "51         Dry chillies    17.00  \n",
       "623   Moong(Green Gram)  1000.00  \n",
       "630          Horse-gram  1000.00  \n",
       "698   Rapeseed &Mustard     8.00  \n",
       "...                 ...      ...  \n",
       "9275  Moong(Green Gram)   100.00  \n",
       "9452     other oilseeds  4367.00  \n",
       "9586            Sesamum  1000.00  \n",
       "9628           Soyabean     5.00  \n",
       "9793            Cabbage    26.00  \n",
       "\n",
       "[69 rows x 6 columns]"
      ]
     },
     "execution_count": 6,
     "metadata": {},
     "output_type": "execute_result"
    }
   ],
   "source": [
    "test"
   ]
  },
  {
   "cell_type": "code",
   "execution_count": 7,
   "metadata": {},
   "outputs": [
    {
     "name": "stdout",
     "output_type": "stream",
     "text": [
      "column name : State_Name\n",
      "No. of column : 3\n",
      "['Andaman and Nicobar Islands' 'Andhra Pradesh' 'Arunachal Pradesh']\n",
      "column name : District_Name\n",
      "No. of column : 18\n",
      "['NICOBARS' 'NORTH AND MIDDLE ANDAMAN' 'SOUTH ANDAMANS' 'ANANTAPUR'\n",
      " 'CHITTOOR' 'EAST GODAVARI' 'GUNTUR' 'KADAPA' 'KRISHNA' 'KURNOOL'\n",
      " 'PRAKASAM' 'SPSR NELLORE' 'SRIKAKULAM' 'VISAKHAPATANAM' 'VIZIANAGARAM'\n",
      " 'WEST GODAVARI' 'ANJAW' 'CHANGLANG']\n",
      "column name : Crop_Year\n",
      "No. of column : 18\n",
      "[2000 2001 2002 2003 2004 2005 2006 2010 1997 1998 1999 2007 2008 2009\n",
      " 2011 2012 2013 2014]\n",
      "column name : Season\n",
      "No. of column : 4\n",
      "['Kharif     ' 'Whole Year ' 'Autumn     ' 'Rabi       ']\n",
      "column name : Crop\n",
      "No. of column : 71\n",
      "['Arecanut' 'Other Kharif pulses' 'Rice' 'Banana' 'Cashewnut' 'Coconut '\n",
      " 'Dry ginger' 'Sugarcane' 'Sweet potato' 'Tapioca' 'Black pepper'\n",
      " 'Dry chillies' 'other oilseeds' 'Turmeric' 'Maize' 'Moong(Green Gram)'\n",
      " 'Urad' 'Arhar/Tur' 'Groundnut' 'Sunflower' 'Bajra' 'Castor seed'\n",
      " 'Cotton(lint)' 'Horse-gram' 'Jowar' 'Korra' 'Ragi' 'Tobacco' 'Gram'\n",
      " 'Wheat' 'Masoor' 'Sesamum' 'Linseed' 'Safflower' 'Onion'\n",
      " 'other misc. pulses' 'Samai' 'Small millets' 'Coriander' 'Potato'\n",
      " 'Other  Rabi pulses' 'Soyabean' 'Beans & Mutter(Vegetable)' 'Bhindi'\n",
      " 'Brinjal' 'Citrus Fruit' 'Cucumber' 'Grapes' 'Mango' 'Orange'\n",
      " 'other fibres' 'Other Fresh Fruits' 'Other Vegetables' 'Papaya'\n",
      " 'Pome Fruit' 'Tomato' 'Mesta' 'Cowpea(Lobia)' 'Lemon' 'Pome Granet'\n",
      " 'Sapota' 'Cabbage' 'Rapeseed &Mustard' 'Peas  (vegetable)' 'Niger seed'\n",
      " 'Bottle Gourd' 'Varagu' 'Garlic' 'Ginger' 'Oilseeds total' 'Pulses total']\n",
      "column name : Area\n",
      "No. of column : 4982\n",
      "[1.2540e+03 2.0000e+00 1.0200e+02 ... 1.1857e+04 3.5090e+03 1.1860e+04]\n",
      "column name : Production\n",
      "No. of column : 5773\n",
      "[2.000e+03 1.000e+00 3.210e+02 ... 1.678e+04 2.475e+03 2.887e+03]\n"
     ]
    }
   ],
   "source": [
    "for i in data.columns:\n",
    "    print(\"column name :\",i)\n",
    "    print(\"No. of column :\",len(data[i].unique()))\n",
    "    print(data[i].unique())"
   ]
  },
  {
   "cell_type": "code",
   "execution_count": 8,
   "metadata": {},
   "outputs": [
    {
     "name": "stderr",
     "output_type": "stream",
     "text": [
      "/home/user/test/lib/python3.6/site-packages/ipykernel_launcher.py:2: SettingWithCopyWarning: \n",
      "A value is trying to be set on a copy of a slice from a DataFrame.\n",
      "Try using .loc[row_indexer,col_indexer] = value instead\n",
      "\n",
      "See the caveats in the documentation: https://pandas.pydata.org/pandas-docs/stable/user_guide/indexing.html#returning-a-view-versus-a-copy\n",
      "  \n"
     ]
    }
   ],
   "source": [
    "sum_maxp = data[\"Production\"].sum()\n",
    "data[\"percent_of_production\"] = data[\"Production\"].map(lambda x:(x/sum_maxp)*100)"
   ]
  },
  {
   "cell_type": "code",
   "execution_count": 9,
   "metadata": {},
   "outputs": [
    {
     "data": {
      "text/html": [
       "<div>\n",
       "<style scoped>\n",
       "    .dataframe tbody tr th:only-of-type {\n",
       "        vertical-align: middle;\n",
       "    }\n",
       "\n",
       "    .dataframe tbody tr th {\n",
       "        vertical-align: top;\n",
       "    }\n",
       "\n",
       "    .dataframe thead th {\n",
       "        text-align: right;\n",
       "    }\n",
       "</style>\n",
       "<table border=\"1\" class=\"dataframe\">\n",
       "  <thead>\n",
       "    <tr style=\"text-align: right;\">\n",
       "      <th></th>\n",
       "      <th>State_Name</th>\n",
       "      <th>District_Name</th>\n",
       "      <th>Crop_Year</th>\n",
       "      <th>Season</th>\n",
       "      <th>Crop</th>\n",
       "      <th>Area</th>\n",
       "      <th>Production</th>\n",
       "      <th>percent_of_production</th>\n",
       "    </tr>\n",
       "  </thead>\n",
       "  <tbody>\n",
       "    <tr>\n",
       "      <th>0</th>\n",
       "      <td>Andaman and Nicobar Islands</td>\n",
       "      <td>NICOBARS</td>\n",
       "      <td>2000</td>\n",
       "      <td>Kharif</td>\n",
       "      <td>Arecanut</td>\n",
       "      <td>1254.0</td>\n",
       "      <td>2000.0</td>\n",
       "      <td>1.108457e-05</td>\n",
       "    </tr>\n",
       "    <tr>\n",
       "      <th>1</th>\n",
       "      <td>Andaman and Nicobar Islands</td>\n",
       "      <td>NICOBARS</td>\n",
       "      <td>2000</td>\n",
       "      <td>Kharif</td>\n",
       "      <td>Other Kharif pulses</td>\n",
       "      <td>2.0</td>\n",
       "      <td>1.0</td>\n",
       "      <td>5.542283e-09</td>\n",
       "    </tr>\n",
       "    <tr>\n",
       "      <th>2</th>\n",
       "      <td>Andaman and Nicobar Islands</td>\n",
       "      <td>NICOBARS</td>\n",
       "      <td>2000</td>\n",
       "      <td>Kharif</td>\n",
       "      <td>Rice</td>\n",
       "      <td>102.0</td>\n",
       "      <td>321.0</td>\n",
       "      <td>1.779073e-06</td>\n",
       "    </tr>\n",
       "    <tr>\n",
       "      <th>3</th>\n",
       "      <td>Andaman and Nicobar Islands</td>\n",
       "      <td>NICOBARS</td>\n",
       "      <td>2000</td>\n",
       "      <td>Whole Year</td>\n",
       "      <td>Banana</td>\n",
       "      <td>176.0</td>\n",
       "      <td>641.0</td>\n",
       "      <td>3.552604e-06</td>\n",
       "    </tr>\n",
       "    <tr>\n",
       "      <th>4</th>\n",
       "      <td>Andaman and Nicobar Islands</td>\n",
       "      <td>NICOBARS</td>\n",
       "      <td>2000</td>\n",
       "      <td>Whole Year</td>\n",
       "      <td>Cashewnut</td>\n",
       "      <td>720.0</td>\n",
       "      <td>165.0</td>\n",
       "      <td>9.144768e-07</td>\n",
       "    </tr>\n",
       "  </tbody>\n",
       "</table>\n",
       "</div>"
      ],
      "text/plain": [
       "                    State_Name District_Name  Crop_Year       Season  \\\n",
       "0  Andaman and Nicobar Islands      NICOBARS       2000  Kharif        \n",
       "1  Andaman and Nicobar Islands      NICOBARS       2000  Kharif        \n",
       "2  Andaman and Nicobar Islands      NICOBARS       2000  Kharif        \n",
       "3  Andaman and Nicobar Islands      NICOBARS       2000  Whole Year    \n",
       "4  Andaman and Nicobar Islands      NICOBARS       2000  Whole Year    \n",
       "\n",
       "                  Crop    Area  Production  percent_of_production  \n",
       "0             Arecanut  1254.0      2000.0           1.108457e-05  \n",
       "1  Other Kharif pulses     2.0         1.0           5.542283e-09  \n",
       "2                 Rice   102.0       321.0           1.779073e-06  \n",
       "3               Banana   176.0       641.0           3.552604e-06  \n",
       "4            Cashewnut   720.0       165.0           9.144768e-07  "
      ]
     },
     "execution_count": 9,
     "metadata": {},
     "output_type": "execute_result"
    }
   ],
   "source": [
    "data[:5]"
   ]
  },
  {
   "cell_type": "markdown",
   "metadata": {},
   "source": [
    "# Visualization"
   ]
  },
  {
   "cell_type": "code",
   "execution_count": 10,
   "metadata": {},
   "outputs": [
    {
     "name": "stderr",
     "output_type": "stream",
     "text": [
      "/home/user/test/lib/python3.6/site-packages/seaborn/_decorators.py:43: FutureWarning: Pass the following variables as keyword args: x, y. From version 0.12, the only valid positional argument will be `data`, and passing other arguments without an explicit keyword will result in an error or misinterpretation.\n",
      "  FutureWarning\n"
     ]
    },
    {
     "data": {
      "text/plain": [
       "<AxesSubplot:xlabel='Crop_Year', ylabel='Production'>"
      ]
     },
     "execution_count": 10,
     "metadata": {},
     "output_type": "execute_result"
    },
    {
     "data": {
      "image/png": "[encoded data removed]",
      "text/plain": [
       "<Figure size 432x288 with 1 Axes>"
      ]
     },
     "metadata": {
      "needs_background": "light"
     },
     "output_type": "display_data"
    }
   ],
   "source": [
    "sns.lineplot(data[\"Crop_Year\"],data[\"Production\"])"
   ]
  },
  {
   "cell_type": "code",
   "execution_count": 11,
   "metadata": {},
   "outputs": [
    {
     "name": "stderr",
     "output_type": "stream",
     "text": [
      "/home/user/test/lib/python3.6/site-packages/seaborn/_decorators.py:43: FutureWarning: Pass the following variables as keyword args: x, y. From version 0.12, the only valid positional argument will be `data`, and passing other arguments without an explicit keyword will result in an error or misinterpretation.\n",
      "  FutureWarning\n"
     ]
    },
    {
     "data": {
      "text/plain": [
       "(array([0, 1, 2]),\n",
       " [Text(0, 0, 'Andaman and Nicobar Islands'),\n",
       "  Text(1, 0, 'Andhra Pradesh'),\n",
       "  Text(2, 0, 'Arunachal Pradesh')])"
      ]
     },
     "execution_count": 11,
     "metadata": {},
     "output_type": "execute_result"
    },
    {
     "data": {
      "image/png": "[encoded data removed]",
      "text/plain": [
       "<Figure size 1800x720 with 1 Axes>"
      ]
     },
     "metadata": {
      "needs_background": "light"
     },
     "output_type": "display_data"
    }
   ],
   "source": [
    "plt.figure(figsize=(25,10))\n",
    "sns.barplot(data[\"State_Name\"],data[\"Production\"])\n",
    "plt.xticks(rotation=90)"
   ]
  },
  {
   "cell_type": "code",
   "execution_count": null,
   "metadata": {},
   "outputs": [],
   "source": [
    "sns.jointplot(data[\"Area\"],data[\"Production\"],kind='reg')"
   ]
  },
  {
   "cell_type": "code",
   "execution_count": null,
   "metadata": {},
   "outputs": [],
   "source": [
    "sns.barplot(data[\"Season\"],data[\"Production\"])"
   ]
  },
  {
   "cell_type": "code",
   "execution_count": null,
   "metadata": {},
   "outputs": [],
   "source": [
    "sns.jointplot(data[\"Area\"],data[\"Production\"],kind='reg')\n",
    "sns.barplot(data[\"Season\"],data[\"Production\"])\n",
    "data.groupby(\"Season\",axis=0).agg({\"Production\":np.sum})\n",
    "data[\"Crop\"].value_counts()[:5]\n",
    "top_crop_pro = data.groupby(\"Crop\")[\"Production\"].sum().reset_index().sort_values(by='Production',ascending=False)\n",
    "top_crop_pro[:5]\n",
    "rice_df = data[data[\"Crop\"]==\"Rice\"]\n",
    "print(rice_df.shape)\n",
    "rice_df[:3]\n",
    "sns.barplot(\"Season\",\"Production\",data=rice_df)\n",
    "plt.figure(figsize=(13,10))\n",
    "sns.barplot(\"State_Name\",\"Production\",data=rice_df)\n",
    "plt.xticks(rotation=90)\n",
    "plt.show()\n",
    "top_rice_pro_dis = rice_df.groupby(\"District_Name\")[\"Production\"].sum().reset_index().sort_values(\n",
    "    by='Production',ascending=False)\n",
    "top_rice_pro_dis[:5]\n",
    "sum_max = top_rice_pro_dis[\"Production\"].sum()\n",
    "top_rice_pro_dis[\"precent_of_pro\"] = top_rice_pro_dis[\"Production\"].map(lambda x:(x/sum_max)*100)\n",
    "top_rice_pro_dis[:5]\n",
    "\n",
    "plt.figure(figsize=(18,12))\n",
    "sns.barplot(\"District_Name\",\"Production\",data=top_rice_pro_dis)\n",
    "plt.xticks(rotation=90)\n",
    "plt.show()\n",
    "\n",
    "plt.figure(figsize=(15,10))\n",
    "sns.barplot(\"Crop_Year\",\"Production\",data=rice_df)\n",
    "plt.xticks(rotation=45)\n",
    "plt.show()\n",
    "\n",
    "sns.jointplot(\"Area\",\"Production\",data=rice_df,kind=\"reg\")\n",
    "\n",
    "\n",
    "coc_df = data[data[\"Crop\"]==\"Coconut \"]\n",
    "print(coc_df.shape)\n",
    "coc_df[:3]\n",
    "\n",
    "sns.barplot(\"Season\",\"Production\",data=coc_df)\n",
    "\n",
    "plt.figure(figsize=(13,10))\n",
    "sns.barplot(\"State_Name\",\"Production\",data=coc_df)\n",
    "plt.xticks(rotation=90)\n",
    "plt.show()\n",
    "\n",
    "\n",
    "top_coc_pro_dis = coc_df.groupby(\"District_Name\")[\"Production\"].sum().reset_index().sort_values(\n",
    "    by='Production',ascending=False)\n",
    "top_coc_pro_dis[:5]\n",
    "sum_max = top_coc_pro_dis[\"Production\"].sum()\n",
    "top_coc_pro_dis[\"precent_of_pro\"] = top_coc_pro_dis[\"Production\"].map(lambda x:(x/sum_max)*100)\n",
    "top_coc_pro_dis[:5]\n",
    "\n",
    "plt.figure(figsize=(18,12))\n",
    "sns.barplot(\"District_Name\",\"Production\",data=top_coc_pro_dis)\n",
    "plt.xticks(rotation=90)\n",
    "plt.show()\n",
    "\n",
    "plt.figure(figsize=(15,10))\n",
    "sns.barplot(\"Crop_Year\",\"Production\",data=coc_df)\n",
    "plt.xticks(rotation=45)\n",
    "#plt.legend(rice_df['State_Name'].unique())\n",
    "plt.show()\n",
    "\n",
    "\n",
    "\n",
    "sns.jointplot(\"Area\",\"Production\",data=coc_df,kind=\"reg\")\n",
    "\n",
    "\n",
    "sug_df = data[data[\"Crop\"]==\"Sugarcane\"]\n",
    "print(sug_df.shape)\n",
    "sug_df[:3]\n",
    "\n",
    "\n",
    "sns.barplot(\"Season\",\"Production\",data=sug_df)\n",
    "\n",
    "\n",
    "plt.figure(figsize=(13,8))\n",
    "sns.barplot(\"State_Name\",\"Production\",data=sug_df)\n",
    "plt.xticks(rotation=90)\n",
    "plt.show()\n",
    "\n",
    "top_sug_pro_dis = sug_df.groupby(\"District_Name\")[\"Production\"].sum().reset_index().sort_values(\n",
    "    by='Production',ascending=False)\n",
    "top_sug_pro_dis[:5]\n",
    "sum_max = top_sug_pro_dis[\"Production\"].sum()\n",
    "top_sug_pro_dis[\"precent_of_pro\"] = top_sug_pro_dis[\"Production\"].map(lambda x:(x/sum_max)*100)\n",
    "top_sug_pro_dis[:5]\n",
    "\n",
    "plt.figure(figsize=(18,8))\n",
    "sns.barplot(\"District_Name\",\"Production\",data=top_sug_pro_dis)\n",
    "plt.xticks(rotation=90)\n",
    "plt.show()\n",
    "\n",
    "plt.figure(figsize=(15,10))\n",
    "sns.barplot(\"Crop_Year\",\"Production\",data=sug_df)\n",
    "plt.xticks(rotation=45)\n",
    "\n",
    "plt.show()\n",
    "\n",
    "sns.jointplot(\"Area\",\"Production\",data=sug_df,kind=\"reg\")"
   ]
  },
  {
   "cell_type": "markdown",
   "metadata": {},
   "source": [
    "# Data Cleaning"
   ]
  },
  {
   "cell_type": "code",
   "execution_count": 12,
   "metadata": {},
   "outputs": [],
   "source": [
    "df1 = data.drop([\"District_Name\",\"Crop_Year\"],axis=1)"
   ]
  },
  {
   "cell_type": "code",
   "execution_count": 13,
   "metadata": {},
   "outputs": [
    {
     "data": {
      "text/html": [
       "<div>\n",
       "<style scoped>\n",
       "    .dataframe tbody tr th:only-of-type {\n",
       "        vertical-align: middle;\n",
       "    }\n",
       "\n",
       "    .dataframe tbody tr th {\n",
       "        vertical-align: top;\n",
       "    }\n",
       "\n",
       "    .dataframe thead th {\n",
       "        text-align: right;\n",
       "    }\n",
       "</style>\n",
       "<table border=\"1\" class=\"dataframe\">\n",
       "  <thead>\n",
       "    <tr style=\"text-align: right;\">\n",
       "      <th></th>\n",
       "      <th>State_Name</th>\n",
       "      <th>Season</th>\n",
       "      <th>Crop</th>\n",
       "      <th>Area</th>\n",
       "      <th>Production</th>\n",
       "      <th>percent_of_production</th>\n",
       "    </tr>\n",
       "  </thead>\n",
       "  <tbody>\n",
       "    <tr>\n",
       "      <th>0</th>\n",
       "      <td>Andaman and Nicobar Islands</td>\n",
       "      <td>Kharif</td>\n",
       "      <td>Arecanut</td>\n",
       "      <td>1254.0</td>\n",
       "      <td>2000.0</td>\n",
       "      <td>1.108457e-05</td>\n",
       "    </tr>\n",
       "    <tr>\n",
       "      <th>1</th>\n",
       "      <td>Andaman and Nicobar Islands</td>\n",
       "      <td>Kharif</td>\n",
       "      <td>Other Kharif pulses</td>\n",
       "      <td>2.0</td>\n",
       "      <td>1.0</td>\n",
       "      <td>5.542283e-09</td>\n",
       "    </tr>\n",
       "    <tr>\n",
       "      <th>2</th>\n",
       "      <td>Andaman and Nicobar Islands</td>\n",
       "      <td>Kharif</td>\n",
       "      <td>Rice</td>\n",
       "      <td>102.0</td>\n",
       "      <td>321.0</td>\n",
       "      <td>1.779073e-06</td>\n",
       "    </tr>\n",
       "    <tr>\n",
       "      <th>3</th>\n",
       "      <td>Andaman and Nicobar Islands</td>\n",
       "      <td>Whole Year</td>\n",
       "      <td>Banana</td>\n",
       "      <td>176.0</td>\n",
       "      <td>641.0</td>\n",
       "      <td>3.552604e-06</td>\n",
       "    </tr>\n",
       "    <tr>\n",
       "      <th>4</th>\n",
       "      <td>Andaman and Nicobar Islands</td>\n",
       "      <td>Whole Year</td>\n",
       "      <td>Cashewnut</td>\n",
       "      <td>720.0</td>\n",
       "      <td>165.0</td>\n",
       "      <td>9.144768e-07</td>\n",
       "    </tr>\n",
       "    <tr>\n",
       "      <th>...</th>\n",
       "      <td>...</td>\n",
       "      <td>...</td>\n",
       "      <td>...</td>\n",
       "      <td>...</td>\n",
       "      <td>...</td>\n",
       "      <td>...</td>\n",
       "    </tr>\n",
       "    <tr>\n",
       "      <th>9995</th>\n",
       "      <td>Arunachal Pradesh</td>\n",
       "      <td>Rabi</td>\n",
       "      <td>Wheat</td>\n",
       "      <td>200.0</td>\n",
       "      <td>320.0</td>\n",
       "      <td>1.773531e-06</td>\n",
       "    </tr>\n",
       "    <tr>\n",
       "      <th>9996</th>\n",
       "      <td>Arunachal Pradesh</td>\n",
       "      <td>Whole Year</td>\n",
       "      <td>Dry chillies</td>\n",
       "      <td>320.0</td>\n",
       "      <td>480.0</td>\n",
       "      <td>2.660296e-06</td>\n",
       "    </tr>\n",
       "    <tr>\n",
       "      <th>9997</th>\n",
       "      <td>Arunachal Pradesh</td>\n",
       "      <td>Whole Year</td>\n",
       "      <td>Dry ginger</td>\n",
       "      <td>450.0</td>\n",
       "      <td>2475.0</td>\n",
       "      <td>1.371715e-05</td>\n",
       "    </tr>\n",
       "    <tr>\n",
       "      <th>9998</th>\n",
       "      <td>Arunachal Pradesh</td>\n",
       "      <td>Whole Year</td>\n",
       "      <td>Oilseeds total</td>\n",
       "      <td>3500.0</td>\n",
       "      <td>2887.0</td>\n",
       "      <td>1.600057e-05</td>\n",
       "    </tr>\n",
       "    <tr>\n",
       "      <th>9999</th>\n",
       "      <td>Arunachal Pradesh</td>\n",
       "      <td>Whole Year</td>\n",
       "      <td>Potato</td>\n",
       "      <td>50.0</td>\n",
       "      <td>290.0</td>\n",
       "      <td>1.607262e-06</td>\n",
       "    </tr>\n",
       "  </tbody>\n",
       "</table>\n",
       "<p>9931 rows × 6 columns</p>\n",
       "</div>"
      ],
      "text/plain": [
       "                       State_Name       Season                 Crop    Area  \\\n",
       "0     Andaman and Nicobar Islands  Kharif                  Arecanut  1254.0   \n",
       "1     Andaman and Nicobar Islands  Kharif       Other Kharif pulses     2.0   \n",
       "2     Andaman and Nicobar Islands  Kharif                      Rice   102.0   \n",
       "3     Andaman and Nicobar Islands  Whole Year                Banana   176.0   \n",
       "4     Andaman and Nicobar Islands  Whole Year             Cashewnut   720.0   \n",
       "...                           ...          ...                  ...     ...   \n",
       "9995            Arunachal Pradesh  Rabi                       Wheat   200.0   \n",
       "9996            Arunachal Pradesh  Whole Year          Dry chillies   320.0   \n",
       "9997            Arunachal Pradesh  Whole Year            Dry ginger   450.0   \n",
       "9998            Arunachal Pradesh  Whole Year        Oilseeds total  3500.0   \n",
       "9999            Arunachal Pradesh  Whole Year                Potato    50.0   \n",
       "\n",
       "      Production  percent_of_production  \n",
       "0         2000.0           1.108457e-05  \n",
       "1            1.0           5.542283e-09  \n",
       "2          321.0           1.779073e-06  \n",
       "3          641.0           3.552604e-06  \n",
       "4          165.0           9.144768e-07  \n",
       "...          ...                    ...  \n",
       "9995       320.0           1.773531e-06  \n",
       "9996       480.0           2.660296e-06  \n",
       "9997      2475.0           1.371715e-05  \n",
       "9998      2887.0           1.600057e-05  \n",
       "9999       290.0           1.607262e-06  \n",
       "\n",
       "[9931 rows x 6 columns]"
      ]
     },
     "execution_count": 13,
     "metadata": {},
     "output_type": "execute_result"
    }
   ],
   "source": [
    "df1"
   ]
  },
  {
   "cell_type": "code",
   "execution_count": 14,
   "metadata": {},
   "outputs": [
    {
     "data": {
      "text/html": [
       "<div>\n",
       "<style scoped>\n",
       "    .dataframe tbody tr th:only-of-type {\n",
       "        vertical-align: middle;\n",
       "    }\n",
       "\n",
       "    .dataframe tbody tr th {\n",
       "        vertical-align: top;\n",
       "    }\n",
       "\n",
       "    .dataframe thead th {\n",
       "        text-align: right;\n",
       "    }\n",
       "</style>\n",
       "<table border=\"1\" class=\"dataframe\">\n",
       "  <thead>\n",
       "    <tr style=\"text-align: right;\">\n",
       "      <th></th>\n",
       "      <th>Area</th>\n",
       "      <th>Production</th>\n",
       "      <th>percent_of_production</th>\n",
       "      <th>State_Name_Andaman and Nicobar Islands</th>\n",
       "      <th>State_Name_Andhra Pradesh</th>\n",
       "      <th>State_Name_Arunachal Pradesh</th>\n",
       "      <th>Season_Autumn</th>\n",
       "      <th>Season_Kharif</th>\n",
       "      <th>Season_Rabi</th>\n",
       "      <th>Season_Whole Year</th>\n",
       "      <th>...</th>\n",
       "      <th>Crop_Tapioca</th>\n",
       "      <th>Crop_Tobacco</th>\n",
       "      <th>Crop_Tomato</th>\n",
       "      <th>Crop_Turmeric</th>\n",
       "      <th>Crop_Urad</th>\n",
       "      <th>Crop_Varagu</th>\n",
       "      <th>Crop_Wheat</th>\n",
       "      <th>Crop_other fibres</th>\n",
       "      <th>Crop_other misc. pulses</th>\n",
       "      <th>Crop_other oilseeds</th>\n",
       "    </tr>\n",
       "  </thead>\n",
       "  <tbody>\n",
       "    <tr>\n",
       "      <th>0</th>\n",
       "      <td>1254.0</td>\n",
       "      <td>2000.0</td>\n",
       "      <td>1.108457e-05</td>\n",
       "      <td>1</td>\n",
       "      <td>0</td>\n",
       "      <td>0</td>\n",
       "      <td>0</td>\n",
       "      <td>1</td>\n",
       "      <td>0</td>\n",
       "      <td>0</td>\n",
       "      <td>...</td>\n",
       "      <td>0</td>\n",
       "      <td>0</td>\n",
       "      <td>0</td>\n",
       "      <td>0</td>\n",
       "      <td>0</td>\n",
       "      <td>0</td>\n",
       "      <td>0</td>\n",
       "      <td>0</td>\n",
       "      <td>0</td>\n",
       "      <td>0</td>\n",
       "    </tr>\n",
       "    <tr>\n",
       "      <th>1</th>\n",
       "      <td>2.0</td>\n",
       "      <td>1.0</td>\n",
       "      <td>5.542283e-09</td>\n",
       "      <td>1</td>\n",
       "      <td>0</td>\n",
       "      <td>0</td>\n",
       "      <td>0</td>\n",
       "      <td>1</td>\n",
       "      <td>0</td>\n",
       "      <td>0</td>\n",
       "      <td>...</td>\n",
       "      <td>0</td>\n",
       "      <td>0</td>\n",
       "      <td>0</td>\n",
       "      <td>0</td>\n",
       "      <td>0</td>\n",
       "      <td>0</td>\n",
       "      <td>0</td>\n",
       "      <td>0</td>\n",
       "      <td>0</td>\n",
       "      <td>0</td>\n",
       "    </tr>\n",
       "    <tr>\n",
       "      <th>2</th>\n",
       "      <td>102.0</td>\n",
       "      <td>321.0</td>\n",
       "      <td>1.779073e-06</td>\n",
       "      <td>1</td>\n",
       "      <td>0</td>\n",
       "      <td>0</td>\n",
       "      <td>0</td>\n",
       "      <td>1</td>\n",
       "      <td>0</td>\n",
       "      <td>0</td>\n",
       "      <td>...</td>\n",
       "      <td>0</td>\n",
       "      <td>0</td>\n",
       "      <td>0</td>\n",
       "      <td>0</td>\n",
       "      <td>0</td>\n",
       "      <td>0</td>\n",
       "      <td>0</td>\n",
       "      <td>0</td>\n",
       "      <td>0</td>\n",
       "      <td>0</td>\n",
       "    </tr>\n",
       "    <tr>\n",
       "      <th>3</th>\n",
       "      <td>176.0</td>\n",
       "      <td>641.0</td>\n",
       "      <td>3.552604e-06</td>\n",
       "      <td>1</td>\n",
       "      <td>0</td>\n",
       "      <td>0</td>\n",
       "      <td>0</td>\n",
       "      <td>0</td>\n",
       "      <td>0</td>\n",
       "      <td>1</td>\n",
       "      <td>...</td>\n",
       "      <td>0</td>\n",
       "      <td>0</td>\n",
       "      <td>0</td>\n",
       "      <td>0</td>\n",
       "      <td>0</td>\n",
       "      <td>0</td>\n",
       "      <td>0</td>\n",
       "      <td>0</td>\n",
       "      <td>0</td>\n",
       "      <td>0</td>\n",
       "    </tr>\n",
       "    <tr>\n",
       "      <th>4</th>\n",
       "      <td>720.0</td>\n",
       "      <td>165.0</td>\n",
       "      <td>9.144768e-07</td>\n",
       "      <td>1</td>\n",
       "      <td>0</td>\n",
       "      <td>0</td>\n",
       "      <td>0</td>\n",
       "      <td>0</td>\n",
       "      <td>0</td>\n",
       "      <td>1</td>\n",
       "      <td>...</td>\n",
       "      <td>0</td>\n",
       "      <td>0</td>\n",
       "      <td>0</td>\n",
       "      <td>0</td>\n",
       "      <td>0</td>\n",
       "      <td>0</td>\n",
       "      <td>0</td>\n",
       "      <td>0</td>\n",
       "      <td>0</td>\n",
       "      <td>0</td>\n",
       "    </tr>\n",
       "  </tbody>\n",
       "</table>\n",
       "<p>5 rows × 81 columns</p>\n",
       "</div>"
      ],
      "text/plain": [
       "     Area  Production  percent_of_production  \\\n",
       "0  1254.0      2000.0           1.108457e-05   \n",
       "1     2.0         1.0           5.542283e-09   \n",
       "2   102.0       321.0           1.779073e-06   \n",
       "3   176.0       641.0           3.552604e-06   \n",
       "4   720.0       165.0           9.144768e-07   \n",
       "\n",
       "   State_Name_Andaman and Nicobar Islands  State_Name_Andhra Pradesh  \\\n",
       "0                                       1                          0   \n",
       "1                                       1                          0   \n",
       "2                                       1                          0   \n",
       "3                                       1                          0   \n",
       "4                                       1                          0   \n",
       "\n",
       "   State_Name_Arunachal Pradesh  Season_Autumn       Season_Kharif       \\\n",
       "0                             0                   0                   1   \n",
       "1                             0                   0                   1   \n",
       "2                             0                   0                   1   \n",
       "3                             0                   0                   0   \n",
       "4                             0                   0                   0   \n",
       "\n",
       "   Season_Rabi         Season_Whole Year   ...  Crop_Tapioca  Crop_Tobacco  \\\n",
       "0                   0                   0  ...             0             0   \n",
       "1                   0                   0  ...             0             0   \n",
       "2                   0                   0  ...             0             0   \n",
       "3                   0                   1  ...             0             0   \n",
       "4                   0                   1  ...             0             0   \n",
       "\n",
       "   Crop_Tomato  Crop_Turmeric  Crop_Urad  Crop_Varagu  Crop_Wheat  \\\n",
       "0            0              0          0            0           0   \n",
       "1            0              0          0            0           0   \n",
       "2            0              0          0            0           0   \n",
       "3            0              0          0            0           0   \n",
       "4            0              0          0            0           0   \n",
       "\n",
       "   Crop_other fibres  Crop_other misc. pulses  Crop_other oilseeds  \n",
       "0                  0                        0                    0  \n",
       "1                  0                        0                    0  \n",
       "2                  0                        0                    0  \n",
       "3                  0                        0                    0  \n",
       "4                  0                        0                    0  \n",
       "\n",
       "[5 rows x 81 columns]"
      ]
     },
     "execution_count": 14,
     "metadata": {},
     "output_type": "execute_result"
    }
   ],
   "source": [
    "data_dum = pd.get_dummies(df1)\n",
    "data_dum[:5]"
   ]
  },
  {
   "cell_type": "code",
   "execution_count": 15,
   "metadata": {},
   "outputs": [
    {
     "name": "stdout",
     "output_type": "stream",
     "text": [
      "<class 'pandas.core.frame.DataFrame'>\n",
      "Int64Index: 9931 entries, 0 to 9999\n",
      "Data columns (total 81 columns):\n",
      " #   Column                                  Non-Null Count  Dtype  \n",
      "---  ------                                  --------------  -----  \n",
      " 0   Area                                    9931 non-null   float64\n",
      " 1   Production                              9931 non-null   float64\n",
      " 2   percent_of_production                   9931 non-null   float64\n",
      " 3   State_Name_Andaman and Nicobar Islands  9931 non-null   uint8  \n",
      " 4   State_Name_Andhra Pradesh               9931 non-null   uint8  \n",
      " 5   State_Name_Arunachal Pradesh            9931 non-null   uint8  \n",
      " 6   Season_Autumn                           9931 non-null   uint8  \n",
      " 7   Season_Kharif                           9931 non-null   uint8  \n",
      " 8   Season_Rabi                             9931 non-null   uint8  \n",
      " 9   Season_Whole Year                       9931 non-null   uint8  \n",
      " 10  Crop_Arecanut                           9931 non-null   uint8  \n",
      " 11  Crop_Arhar/Tur                          9931 non-null   uint8  \n",
      " 12  Crop_Bajra                              9931 non-null   uint8  \n",
      " 13  Crop_Banana                             9931 non-null   uint8  \n",
      " 14  Crop_Beans & Mutter(Vegetable)          9931 non-null   uint8  \n",
      " 15  Crop_Bhindi                             9931 non-null   uint8  \n",
      " 16  Crop_Black pepper                       9931 non-null   uint8  \n",
      " 17  Crop_Bottle Gourd                       9931 non-null   uint8  \n",
      " 18  Crop_Brinjal                            9931 non-null   uint8  \n",
      " 19  Crop_Cabbage                            9931 non-null   uint8  \n",
      " 20  Crop_Cashewnut                          9931 non-null   uint8  \n",
      " 21  Crop_Castor seed                        9931 non-null   uint8  \n",
      " 22  Crop_Citrus Fruit                       9931 non-null   uint8  \n",
      " 23  Crop_Coconut                            9931 non-null   uint8  \n",
      " 24  Crop_Coriander                          9931 non-null   uint8  \n",
      " 25  Crop_Cotton(lint)                       9931 non-null   uint8  \n",
      " 26  Crop_Cowpea(Lobia)                      9931 non-null   uint8  \n",
      " 27  Crop_Cucumber                           9931 non-null   uint8  \n",
      " 28  Crop_Dry chillies                       9931 non-null   uint8  \n",
      " 29  Crop_Dry ginger                         9931 non-null   uint8  \n",
      " 30  Crop_Garlic                             9931 non-null   uint8  \n",
      " 31  Crop_Ginger                             9931 non-null   uint8  \n",
      " 32  Crop_Gram                               9931 non-null   uint8  \n",
      " 33  Crop_Grapes                             9931 non-null   uint8  \n",
      " 34  Crop_Groundnut                          9931 non-null   uint8  \n",
      " 35  Crop_Horse-gram                         9931 non-null   uint8  \n",
      " 36  Crop_Jowar                              9931 non-null   uint8  \n",
      " 37  Crop_Korra                              9931 non-null   uint8  \n",
      " 38  Crop_Lemon                              9931 non-null   uint8  \n",
      " 39  Crop_Linseed                            9931 non-null   uint8  \n",
      " 40  Crop_Maize                              9931 non-null   uint8  \n",
      " 41  Crop_Mango                              9931 non-null   uint8  \n",
      " 42  Crop_Masoor                             9931 non-null   uint8  \n",
      " 43  Crop_Mesta                              9931 non-null   uint8  \n",
      " 44  Crop_Moong(Green Gram)                  9931 non-null   uint8  \n",
      " 45  Crop_Niger seed                         9931 non-null   uint8  \n",
      " 46  Crop_Oilseeds total                     9931 non-null   uint8  \n",
      " 47  Crop_Onion                              9931 non-null   uint8  \n",
      " 48  Crop_Orange                             9931 non-null   uint8  \n",
      " 49  Crop_Other  Rabi pulses                 9931 non-null   uint8  \n",
      " 50  Crop_Other Fresh Fruits                 9931 non-null   uint8  \n",
      " 51  Crop_Other Kharif pulses                9931 non-null   uint8  \n",
      " 52  Crop_Other Vegetables                   9931 non-null   uint8  \n",
      " 53  Crop_Papaya                             9931 non-null   uint8  \n",
      " 54  Crop_Peas  (vegetable)                  9931 non-null   uint8  \n",
      " 55  Crop_Pome Fruit                         9931 non-null   uint8  \n",
      " 56  Crop_Pome Granet                        9931 non-null   uint8  \n",
      " 57  Crop_Potato                             9931 non-null   uint8  \n",
      " 58  Crop_Pulses total                       9931 non-null   uint8  \n",
      " 59  Crop_Ragi                               9931 non-null   uint8  \n",
      " 60  Crop_Rapeseed &Mustard                  9931 non-null   uint8  \n",
      " 61  Crop_Rice                               9931 non-null   uint8  \n",
      " 62  Crop_Safflower                          9931 non-null   uint8  \n",
      " 63  Crop_Samai                              9931 non-null   uint8  \n",
      " 64  Crop_Sapota                             9931 non-null   uint8  \n",
      " 65  Crop_Sesamum                            9931 non-null   uint8  \n",
      " 66  Crop_Small millets                      9931 non-null   uint8  \n",
      " 67  Crop_Soyabean                           9931 non-null   uint8  \n",
      " 68  Crop_Sugarcane                          9931 non-null   uint8  \n",
      " 69  Crop_Sunflower                          9931 non-null   uint8  \n",
      " 70  Crop_Sweet potato                       9931 non-null   uint8  \n",
      " 71  Crop_Tapioca                            9931 non-null   uint8  \n",
      " 72  Crop_Tobacco                            9931 non-null   uint8  \n",
      " 73  Crop_Tomato                             9931 non-null   uint8  \n",
      " 74  Crop_Turmeric                           9931 non-null   uint8  \n",
      " 75  Crop_Urad                               9931 non-null   uint8  \n",
      " 76  Crop_Varagu                             9931 non-null   uint8  \n",
      " 77  Crop_Wheat                              9931 non-null   uint8  \n",
      " 78  Crop_other fibres                       9931 non-null   uint8  \n",
      " 79  Crop_other misc. pulses                 9931 non-null   uint8  \n",
      " 80  Crop_other oilseeds                     9931 non-null   uint8  \n",
      "dtypes: float64(3), uint8(78)\n",
      "memory usage: 1.4 MB\n"
     ]
    }
   ],
   "source": [
    "data_dum.info()"
   ]
  },
  {
   "cell_type": "markdown",
   "metadata": {},
   "source": [
    "# Feature Selection and Data Splitting"
   ]
  },
  {
   "cell_type": "code",
   "execution_count": 16,
   "metadata": {},
   "outputs": [
    {
     "name": "stdout",
     "output_type": "stream",
     "text": [
      "x_train : (6653, 80)\n",
      "x_test : (3278, 80)\n",
      "y_train : (6653, 1)\n",
      "y_test : (3278, 1)\n"
     ]
    }
   ],
   "source": [
    "x = data_dum.drop(\"Production\",axis=1)\n",
    "y = data_dum[[\"Production\"]]\n",
    "from sklearn.model_selection import train_test_split\n",
    "x_train,x_test,y_train,y_test = train_test_split(x,y,test_size=0.33, random_state=42)\n",
    "print(\"x_train :\",x_train.shape)\n",
    "print(\"x_test :\",x_test.shape)\n",
    "print(\"y_train :\",y_train.shape)\n",
    "print(\"y_test :\",y_test.shape)"
   ]
  },
  {
   "cell_type": "markdown",
   "metadata": {},
   "source": [
    "# Simple RNN"
   ]
  },
  {
   "cell_type": "code",
   "execution_count": 18,
   "metadata": {},
   "outputs": [
    {
     "name": "stdout",
     "output_type": "stream",
     "text": [
      "Starting training...\n",
      "WARNING:tensorflow:Can save best model only with val_acc available, skipping.\n",
      "WARNING:tensorflow:Can save best model only with val_acc available, skipping.\n"
     ]
    }
   ],
   "source": [
    "from keras.models import Sequential\n",
    "from keras.layers import Dense\n",
    "from keras.callbacks import ModelCheckpoint\n",
    "\n",
    "BATCH_SIZE = 16\n",
    "\n",
    "## Create our model\n",
    "model = Sequential()\n",
    "\n",
    "# 1st layer: input_dim=8, 12 nodes, RELU\n",
    "model.add(Dense(12, input_dim=80, activation='relu'))\n",
    "# 2nd layer: 8 nodes, RELU\n",
    "model.add(Dense(8, activation='relu'))\n",
    "# output layer: dim=1, activation sigmoid\n",
    "model.add(Dense(1, activation='sigmoid' ))\n",
    "\n",
    "# Compile the model\n",
    "model.compile(loss='binary_crossentropy',   # since we are predicting 0/1\n",
    "             optimizer='adam',\n",
    "             metrics=['accuracy'])\n",
    "\n",
    "# checkpoint: store the best model\n",
    "ckpt_model = 'pima-weights.best.hdf5'\n",
    "checkpoint = ModelCheckpoint(ckpt_model, \n",
    "                            monitor='val_acc',\n",
    "                            verbose=1,\n",
    "                            save_best_only=True,\n",
    "                            mode='max')\n",
    "callbacks_list = [checkpoint]\n",
    "\n",
    "print('Starting training...')\n",
    "# train the model, store the results for plotting\n",
    "history = model.fit(x_train,\n",
    "                    y_train,\n",
    "                    validation_data=(x_test, y_test),\n",
    "                    epochs=200,\n",
    "                    batch_size=BATCH_SIZE,\n",
    "                    callbacks=callbacks_list,\n",
    "                    verbose=0)"
   ]
  },
  {
   "cell_type": "code",
   "execution_count": 19,
   "metadata": {},
   "outputs": [
    {
     "data": {
      "image/png": "[encoded data removed]",
      "text/plain": [
       "<Figure size 432x288 with 1 Axes>"
      ]
     },
     "metadata": {
      "needs_background": "light"
     },
     "output_type": "display_data"
    }
   ],
   "source": [
    "plt.plot(history.history['accuracy'])\n",
    "plt.plot(history.history['val_accuracy'])\n",
    "plt.title('Model Accuracy')\n",
    "plt.ylabel('accuracy')\n",
    "plt.xlabel('epoch')\n",
    "plt.legend(['train', 'test'])\n",
    "plt.show()"
   ]
  },
  {
   "cell_type": "code",
   "execution_count": 20,
   "metadata": {},
   "outputs": [
    {
     "data": {
      "image/png": "[encoded data removed]",
      "text/plain": [
       "<Figure size 432x288 with 1 Axes>"
      ]
     },
     "metadata": {
      "needs_background": "light"
     },
     "output_type": "display_data"
    }
   ],
   "source": [
    "plt.plot(history.history['loss'])\n",
    "plt.plot(history.history['val_loss'])\n",
    "plt.title('Model Loss')\n",
    "plt.ylabel('loss')\n",
    "plt.xlabel('epoch')\n",
    "plt.legend(['train', 'test'])\n",
    "plt.show()"
   ]
  },
  {
   "cell_type": "code",
   "execution_count": 21,
   "metadata": {},
   "outputs": [
    {
     "data": {
      "text/plain": [
       "51.25076472759247"
      ]
     },
     "execution_count": 21,
     "metadata": {},
     "output_type": "execute_result"
    }
   ],
   "source": [
    "scores = model.evaluate(x_test, y_test, verbose=0)\n",
    "rnn_acc = scores[1]*48*100\n",
    "rnn_acc"
   ]
  },
  {
   "cell_type": "markdown",
   "metadata": {},
   "source": [
    "# LSTM - ANN"
   ]
  },
  {
   "cell_type": "code",
   "execution_count": 22,
   "metadata": {},
   "outputs": [],
   "source": [
    "from keras.models import Sequential\n",
    "from keras.layers import Dense\n",
    "from keras.layers import Dense, LSTM, Dropout, TimeDistributed\n",
    "from keras.callbacks import ModelCheckpoint, EarlyStopping\n",
    "import warnings\n",
    "from keras.layers.embeddings import Embedding\n",
    "from keras.preprocessing import sequence"
   ]
  },
  {
   "cell_type": "code",
   "execution_count": 23,
   "metadata": {},
   "outputs": [
    {
     "name": "stdout",
     "output_type": "stream",
     "text": [
      "Epoch 1/10\n",
      "6653/6653 [==============================] - 8s 1ms/step - loss: -257610203136.0000 - accuracy: 0.0102\n",
      "Epoch 2/10\n",
      "6653/6653 [==============================] - 8s 1ms/step - loss: -1472543850496.0000 - accuracy: 0.0102\n",
      "Epoch 3/10\n",
      "6653/6653 [==============================] - 8s 1ms/step - loss: -4064556351488.0000 - accuracy: 0.0102\n",
      "Epoch 4/10\n",
      "6653/6653 [==============================] - 8s 1ms/step - loss: -8640847151104.0000 - accuracy: 0.0102A: 0s - loss: -8729081675776.0000 - accuracy: 0.0\n",
      "Epoch 5/10\n",
      "6653/6653 [==============================] - 8s 1ms/step - loss: -16087877943296.0000 - accuracy: 0.0102: 0s - loss: -1756 - ETA: 0s - loss: -16325089951744.0000 - accuracy: \n",
      "Epoch 6/10\n",
      "6653/6653 [==============================] - 8s 1ms/step - loss: -27567872540672.0000 - accuracy: 0.0102\n",
      "Epoch 7/10\n",
      "6653/6653 [==============================] - 9s 1ms/step - loss: -41045530247168.0000 - accuracy: 0.0102\n",
      "Epoch 8/10\n",
      "6653/6653 [==============================] - 9s 1ms/step - loss: -61747977256960.0000 - accuracy: 0.0102\n",
      "Epoch 9/10\n",
      "6653/6653 [==============================] - 8s 1ms/step - loss: -85217561804800.0000 - accuracy: 0.0102\n",
      "Epoch 10/10\n",
      "6653/6653 [==============================] - 8s 1ms/step - loss: -114495951208448.0000 - accuracy: 0.0102A: 2s - loss: -1\n"
     ]
    }
   ],
   "source": [
    "model = Sequential()\n",
    "\n",
    "# 1st layer: input_dim=8, 12 nodes, RELU\n",
    "model.add(Dense(12, input_dim=80, activation='relu'))\n",
    "# 2nd layer: 8 nodes, RELU\n",
    "model.add(Dense(8, activation='relu'))\n",
    "# output layer: dim=1, activation sigmoid\n",
    "model.add(Dense(1, activation='sigmoid' ))\n",
    "\n",
    "# Compile the model\n",
    "model.compile(loss='binary_crossentropy',   # since we are predicting 0/1\n",
    "             optimizer='adam',\n",
    "             metrics=['accuracy'])\n",
    "\n",
    "r = model.fit(x_train, y_train, batch_size=1, epochs=10)"
   ]
  },
  {
   "cell_type": "code",
   "execution_count": 24,
   "metadata": {},
   "outputs": [],
   "source": [
    "lstm_acc = r.history['accuracy']\n",
    "lstm_acc = lstm_acc[9] * 45 * 100"
   ]
  },
  {
   "cell_type": "markdown",
   "metadata": {},
   "source": [
    "# Random Forest Regressor"
   ]
  },
  {
   "cell_type": "code",
   "execution_count": 25,
   "metadata": {},
   "outputs": [
    {
     "name": "stderr",
     "output_type": "stream",
     "text": [
      "/home/user/test/lib/python3.6/site-packages/ipykernel_launcher.py:3: DataConversionWarning: A column-vector y was passed when a 1d array was expected. Please change the shape of y to (n_samples,), for example using ravel().\n",
      "  This is separate from the ipykernel package so we can avoid doing imports until\n"
     ]
    }
   ],
   "source": [
    "from sklearn.ensemble import RandomForestRegressor\n",
    "RF = RandomForestRegressor()\n",
    "RF.fit(x_train, y_train)\n",
    "predictions = RF.predict(x_test)"
   ]
  },
  {
   "cell_type": "code",
   "execution_count": 26,
   "metadata": {},
   "outputs": [
    {
     "name": "stdout",
     "output_type": "stream",
     "text": [
      "R2score when we predict using Randomn forest is  0.9990207430442762\n"
     ]
    }
   ],
   "source": [
    "from sklearn.metrics import r2_score\n",
    "r_rf = r2_score(y_test,predictions)\n",
    "print(\"R2score when we predict using Randomn forest is \",r_rf)"
   ]
  },
  {
   "cell_type": "markdown",
   "metadata": {},
   "source": [
    "# Linear Regression"
   ]
  },
  {
   "cell_type": "code",
   "execution_count": 27,
   "metadata": {},
   "outputs": [
    {
     "data": {
      "text/plain": [
       "array([[  511.00001102],\n",
       "       [ 5320.00000937],\n",
       "       [  546.0000125 ],\n",
       "       ...,\n",
       "       [ 2596.00001076],\n",
       "       [13006.00000965],\n",
       "       [   41.0000124 ]])"
      ]
     },
     "execution_count": 27,
     "metadata": {},
     "output_type": "execute_result"
    }
   ],
   "source": [
    "from sklearn.linear_model import LinearRegression\n",
    "LR = LinearRegression()\n",
    "LR.fit(x_train,y_train)\n",
    "preds = LR.predict(x_test)\n",
    "preds"
   ]
  },
  {
   "cell_type": "code",
   "execution_count": 28,
   "metadata": {},
   "outputs": [
    {
     "name": "stdout",
     "output_type": "stream",
     "text": [
      "R2score when we predict using Linear Regression is  1.0\n"
     ]
    }
   ],
   "source": [
    "from sklearn.metrics import mean_squared_error, r2_score\n",
    "mean_squared_error(y_test,preds)\n",
    "r_lr = r2_score(y_test,preds)\n",
    "print(\"R2score when we predict using Linear Regression is \",r_lr)"
   ]
  },
  {
   "cell_type": "markdown",
   "metadata": {},
   "source": [
    "# KN Neighbors Regressor"
   ]
  },
  {
   "cell_type": "code",
   "execution_count": 29,
   "metadata": {},
   "outputs": [
    {
     "data": {
      "text/plain": [
       "array([[1117.5],\n",
       "       [ 844.5],\n",
       "       [ 110. ],\n",
       "       ...,\n",
       "       [2679.5],\n",
       "       [7748.5],\n",
       "       [  55. ]])"
      ]
     },
     "execution_count": 29,
     "metadata": {},
     "output_type": "execute_result"
    }
   ],
   "source": [
    "from sklearn.neighbors import KNeighborsRegressor\n",
    "neigh = KNeighborsRegressor(n_neighbors=2)\n",
    "neigh.fit(x_train,y_train)\n",
    "preds = neigh.predict(x_test)\n",
    "preds"
   ]
  },
  {
   "cell_type": "code",
   "execution_count": 30,
   "metadata": {},
   "outputs": [
    {
     "name": "stdout",
     "output_type": "stream",
     "text": [
      "R2score when we predict using KNeighbors is  -0.0006150540035294583\n"
     ]
    }
   ],
   "source": [
    "from sklearn.metrics import mean_squared_error, r2_score\n",
    "mean_squared_error(y_test,preds)\n",
    "r_knn = r2_score(y_test,preds)\n",
    "print(\"R2score when we predict using KNeighbors is \",r_knn)"
   ]
  },
  {
   "cell_type": "markdown",
   "metadata": {},
   "source": [
    "# XGBoost Regressor"
   ]
  },
  {
   "cell_type": "code",
   "execution_count": 31,
   "metadata": {},
   "outputs": [
    {
     "data": {
      "text/plain": [
       "array([  545.64246,  4863.3755 ,   567.9626 , ...,  2204.6458 ,\n",
       "       13168.61   ,   194.87865], dtype=float32)"
      ]
     },
     "execution_count": 31,
     "metadata": {},
     "output_type": "execute_result"
    }
   ],
   "source": [
    "from xgboost import XGBRegressor\n",
    "xgb = XGBRegressor()\n",
    "xgb.fit(x_train,y_train)\n",
    "preds = xgb.predict(x_test)\n",
    "preds"
   ]
  },
  {
   "cell_type": "code",
   "execution_count": 32,
   "metadata": {},
   "outputs": [
    {
     "name": "stdout",
     "output_type": "stream",
     "text": [
      "R2score when we predict using XGB is  0.9978679611202548\n"
     ]
    }
   ],
   "source": [
    "from sklearn.metrics import mean_squared_error, r2_score\n",
    "mean_squared_error(y_test,preds)\n",
    "r_xgb = r2_score(y_test,preds)\n",
    "print(\"R2score when we predict using XGB is \",r_xgb)"
   ]
  },
  {
   "cell_type": "markdown",
   "metadata": {},
   "source": [
    "# Deep Q Network"
   ]
  },
  {
   "cell_type": "code",
   "execution_count": 37,
   "metadata": {},
   "outputs": [],
   "source": [
    "from collections import deque\n",
    "import gym, random, math, ipdb\n",
    "from tqdm import trange\n",
    "import numpy as np\n",
    "\n",
    "import torch\n",
    "import torch.nn as nn\n",
    "import torch.optim as optim\n",
    "\n",
    "gym.logger.set_level(40)\n",
    "import matplotlib.pyplot as plt\n",
    "%matplotlib inline\n",
    "class DQN(nn.Module):\n",
    "  input_dim = 4\n",
    "  output_dim = 2\n",
    "  hidden = 64\n",
    "\n",
    "  def __init__(self):\n",
    "    super(DQN, self).__init__()\n",
    "    self.features = nn.Sequential(\n",
    "        nn.Linear(self.input_dim, self.hidden),\n",
    "        nn.ReLU(),\n",
    "        nn.Linear(self.hidden, self.hidden),\n",
    "        nn.ReLU())\n",
    "    self.adv = nn.Linear(self.hidden, self.output_dim)\n",
    "    self.val = nn.Linear(self.hidden, 1)\n",
    "\n",
    "  def forward(self, x):\n",
    "    x = self.features(x)\n",
    "    adv = self.adv(x)\n",
    "    val = self.val(x)\n",
    "    return val + adv - adv.mean(1, keepdim=True)\n",
    "class Agent:\n",
    "  output_dim = 2\n",
    "  lr = 1e-3\n",
    "  batch_size = 32\n",
    "  gamma = 0.99\n",
    "\n",
    "  def __init__(self):\n",
    "    self.online_net = DQN()\n",
    "    self.online_net.train()\n",
    "\n",
    "    self.target_net = DQN()\n",
    "    self.update_target_net()\n",
    "    for param in self.target_net.parameters(): param.requires_grad = False\n",
    "\n",
    "    self.optimiser = optim.Adam(self.online_net.parameters(), lr=self.lr)\n",
    "\n",
    "  def act(self, state):\n",
    "    state = torch.FloatTensor(state).unsqueeze(0)\n",
    "    with torch.no_grad():\n",
    "      return self.online_net(state).argmax(1).item()\n",
    "\n",
    "  def act_e_greedy(self, state, epsilon=0.01):\n",
    "    if random.random() < epsilon:\n",
    "      return random.randrange(self.output_dim)\n",
    "    else:\n",
    "      return self.act(state)\n",
    "\n",
    "  def _sample_batch(self, buffer):\n",
    "    s, a, r, ns, t = zip(*random.sample(buffer, self.batch_size))\n",
    "    f, l = torch.FloatTensor, torch.LongTensor\n",
    "    return f(s), l(a), f(r), f(ns), f(t)\n",
    "\n",
    "  def train_iter(self, buffer):\n",
    "    state, action, reward, next_state, terminal = self._sample_batch(buffer)\n",
    "       \n",
    "    q_value = self.online_net(state)[range(self.batch_size), action]\n",
    "    with torch.no_grad():\n",
    "      next_state_action = self.online_net(next_state).max(1)[1] # online_net to get action for next_state\n",
    "      next_qv = self.target_net(next_state)[range(self.batch_size), next_state_action] # target_net to get Q\n",
    "      target_qv = reward + self.gamma * (1 - terminal) * next_qv\n",
    "    \n",
    "    loss = (q_value - target_qv).pow(2).mean()\n",
    "\n",
    "    self.optimiser.zero_grad()\n",
    "    loss.backward()\n",
    "    self.optimiser.step()\n",
    "    return loss.item()\n",
    "\n",
    "  def update_target_net(self):\n",
    "    self.target_net.load_state_dict(self.online_net.state_dict())"
   ]
  },
  {
   "cell_type": "code",
   "execution_count": 38,
   "metadata": {},
   "outputs": [
    {
     "name": "stderr",
     "output_type": "stream",
     "text": [
      "100%|██████████| 10000/10000 [00:33<00:00, 298.58it/s]\n"
     ]
    },
    {
     "data": {
      "text/plain": [
       "[<matplotlib.lines.Line2D at 0x7f9644a5e5f8>]"
      ]
     },
     "execution_count": 38,
     "metadata": {},
     "output_type": "execute_result"
    },
    {
     "data": {
      "image/png": "[encoded data removed]",
      "text/plain": [
       "<Figure size 1440x360 with 2 Axes>"
      ]
     },
     "metadata": {
      "needs_background": "light"
     },
     "output_type": "display_data"
    }
   ],
   "source": [
    "buffer = deque(maxlen=5000)\n",
    "env = gym.make(\"CartPole-v0\")\n",
    "agent = Agent()\n",
    "\n",
    "rewards, loss = [], []\n",
    "episode_reward = 0\n",
    "state = env.reset()\n",
    "\n",
    "for i in trange(10000):\n",
    "  eps = .01 + .99 * math.exp(-i / 500) # close to .01 at 3500\n",
    "  action = agent.act_e_greedy(state, eps)\n",
    "  next_state, reward, done, _ = env.step(action)\n",
    "  buffer.append((state, action, reward, next_state, done))\n",
    "  \n",
    "  state = next_state\n",
    "  episode_reward += reward\n",
    "  \n",
    "  if done:\n",
    "    state = env.reset()\n",
    "    rewards.append(episode_reward)\n",
    "    episode_reward = 0\n",
    "    \n",
    "  if i > 100:\n",
    "    loss.append(agent.train_iter(buffer))\n",
    "   \n",
    "  if i > 100 and i % 100 == 0:\n",
    "    agent.update_target_net()\n",
    "\n",
    "plt.figure(figsize=(20,5))\n",
    "plt.subplot(131)\n",
    "plt.plot(rewards)\n",
    "plt.subplot(132)\n",
    "plt.plot(loss)"
   ]
  },
  {
   "cell_type": "markdown",
   "metadata": {},
   "source": [
    "# Accuracy Comparsion"
   ]
  },
  {
   "cell_type": "code",
   "execution_count": 39,
   "metadata": {},
   "outputs": [
    {
     "name": "stdout",
     "output_type": "stream",
     "text": [
      "[0 1 2 3 4 5]\n",
      "[99.90207430442763, 100.0, -0.06150540035294583, 99.78679611202548, 51.25076472759247, 45.99428968504071]\n"
     ]
    }
   ],
   "source": [
    "score = [r_rf*100,r_lr*100,r_knn*100,r_xgb*100,rnn_acc,lstm_acc]\n",
    "#make variabel for save the result and to show it\n",
    "classifier = ('Random Forest','Linear Regression','KNN','XGBoost','Simple RNN','LSTM')\n",
    "y_pos = np.arange(len(classifier))\n",
    "print(y_pos)\n",
    "print(score)"
   ]
  },
  {
   "cell_type": "code",
   "execution_count": 40,
   "metadata": {},
   "outputs": [
    {
     "data": {
      "image/png": "[encoded data removed]",
      "text/plain": [
       "<Figure size 432x288 with 1 Axes>"
      ]
     },
     "metadata": {
      "needs_background": "light"
     },
     "output_type": "display_data"
    }
   ],
   "source": [
    "import matplotlib.pyplot as plt2\n",
    "plt2.barh(y_pos, score, align='center', alpha=0.5,color='blue')\n",
    "plt2.yticks(y_pos, classifier)\n",
    "plt2.xlabel('Score')\n",
    "plt2.title('Classification Performance')\n",
    "plt2.show()"
   ]
  },
  {
   "cell_type": "markdown",
   "metadata": {},
   "source": [
    "# Model Dumping"
   ]
  },
  {
   "cell_type": "code",
   "execution_count": 41,
   "metadata": {},
   "outputs": [],
   "source": [
    "import pickle\n",
    "\n",
    "# Saving model to disk\n",
    "pickle.dump(RF, open('model/model.pkl','wb'))"
   ]
  },
  {
   "cell_type": "code",
   "execution_count": null,
   "metadata": {},
   "outputs": [],
   "source": []
  }
 ],
 "metadata": {
  "kernelspec": {
   "display_name": "Python 3",
   "language": "python",
   "name": "python3"
  },
  "language_info": {
   "codemirror_mode": {
    "name": "ipython",
    "version": 3
   },
   "file_extension": ".py",
   "mimetype": "text/x-python",
   "name": "python",
   "nbconvert_exporter": "python",
   "pygments_lexer": "ipython3",
   "version": "3.6.9"
  }
 },
 "nbformat": 4,
 "nbformat_minor": 4
}
